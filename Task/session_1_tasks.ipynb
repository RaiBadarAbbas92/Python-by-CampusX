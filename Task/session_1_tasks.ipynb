{
  "cells": [
    {
      "cell_type": "markdown",
      "metadata": {
        "id": "A05OG15VqOPF"
      },
      "source": [
        "# Task : Session 1\n",
        "Solve these questions own your own and try to test yourself what you have learned in the session.\n",
        "\n",
        "Happy Learning!"
      ]
    },
    {
      "cell_type": "markdown",
      "metadata": {
        "id": "2doIXf8bqe9_"
      },
      "source": [
        "### Q1 :- Print the given strings as per stated format.\n",
        "\n",
        "**Given strings**:\n",
        "```\n",
        "\"Data\" \"Science\" \"Mentorship\" \"Program\"\n",
        "\"By\" \"CampusX\"\n",
        "```\n",
        "**Output**:\n",
        "```\n",
        "Data-Science-Mentorship-Program-started-By-CampusX\n",
        "```\n",
        "\n",
        "Concept- [Seperator and End]"
      ]
    },
    {
      "cell_type": "code",
      "execution_count": 3,
      "metadata": {
        "id": "-em6d3KErDtp"
      },
      "outputs": [
        {
          "name": "stdout",
          "output_type": "stream",
          "text": [
            "Data-Science-Mentorship-Program-started-By-CampusX\n"
          ]
        }
      ],
      "source": [
        "print(\"Data\" , \"Science\" , \"Mentorship\" , \"Program\" , \"started\" , \"By\" , \"CampusX\" , sep=\"-\" )"
      ]
    },
    {
      "cell_type": "markdown",
      "metadata": {
        "id": "1KUpN7ZTrC3_"
      },
      "source": [
        "### Q2:- Write a program that will convert celsius value to fahrenheit."
      ]
    },
    {
      "cell_type": "code",
      "execution_count": 1,
      "metadata": {
        "id": "yxKYhYQiqWfj"
      },
      "outputs": [
        {
          "name": "stdout",
          "output_type": "stream",
          "text": [
            "your given temprature in fahranhiet is 122.0\n"
          ]
        }
      ],
      "source": [
        "# F = (C * 9 / 5) + 32\n",
        "\n",
        "input_celsius = int(input(\"Write Celsius Temrature\"))\n",
        "fahrenhiet = (input_celsius * 9/5) + 32\n",
        "print(f\"your given temprature in fahranhiet is {fahrenhiet}\")"
      ]
    },
    {
      "cell_type": "markdown",
      "metadata": {
        "id": "RLrOBBJurLB2"
      },
      "source": [
        "### Q3:- Take 2 numbers as input from the user.Write a program to swap the numbers without using any special python syntax."
      ]
    },
    {
      "cell_type": "code",
      "execution_count": 6,
      "metadata": {
        "id": "yPn7if0TrJ4F"
      },
      "outputs": [
        {
          "name": "stdout",
          "output_type": "stream",
          "text": [
            "First Number is 7 and Second number is 3 Before Swapping\n",
            "First Number is 3 and Second Number After swaping 7 After swapping\n"
          ]
        }
      ],
      "source": [
        "num1 = int(input(\"Write your first number\"))\n",
        "num2 = int(input(\"Enter Your second numner\"))\n",
        "\n",
        "# Before Swapping\n",
        "print(f\"First Number is {num1} and Second number is {num2} Before Swapping\")\n",
        "\n",
        "# Swapping\n",
        "num3=num1\n",
        "num1=num2\n",
        "num2=num3\n",
        "# After Swapping\n",
        "print(f\"First Number is {num1} and Second Number After swaping {num3} After swapping\")"
      ]
    },
    {
      "cell_type": "markdown",
      "metadata": {
        "id": "waLCP1bjr7ML"
      },
      "source": [
        "### Q4:- Write a program to find the euclidean distance between two coordinates.Take both the coordinates from the user as input."
      ]
    },
    {
      "cell_type": "code",
      "execution_count": 7,
      "metadata": {},
      "outputs": [],
      "source": [
        "import math"
      ]
    },
    {
      "cell_type": "code",
      "execution_count": 8,
      "metadata": {
        "id": "Pl1Sv-xnrxnH"
      },
      "outputs": [
        {
          "name": "stdout",
          "output_type": "stream",
          "text": [
            "4.0\n"
          ]
        }
      ],
      "source": [
        "coordinate1 = int(input('write here the length of first coordinate'))\n",
        "coordinate2 = int(input(\"Wite here length of senond coordinate\"))\n",
        "# Euclidean Distance = square root of x**2 - y**2\n",
        "\n",
        "Euclidean_Distance = math.sqrt(coordinate1**2 - coordinate2**2)\n",
        "\n",
        "# Print\n",
        "\n",
        "print(Euclidean_Distance)\n"
      ]
    },
    {
      "cell_type": "markdown",
      "metadata": {
        "id": "VLrhg-FRsHjR"
      },
      "source": [
        "### Q5:- Write a program to find the simple interest when the value of principle,rate of interest and time period is provided by the user.\n"
      ]
    },
    {
      "cell_type": "code",
      "execution_count": 2,
      "metadata": {
        "id": "s40DlReZsTmY"
      },
      "outputs": [
        {
          "name": "stdout",
          "output_type": "stream",
          "text": [
            "22500.0\n"
          ]
        }
      ],
      "source": [
        "\n",
        "#  simple interest = principle*rate of interest * time / 100\n",
        "principle = int(input(\"Enter Total Amount\"))\n",
        "rate_of_interest = int(input('Enter Rae of interest'))\n",
        "time_period = int(input('Enter time period in year'))\n",
        "\n",
        "si = principle * rate_of_interest * time_period / 100\n",
        "\n",
        " \n",
        "print(si)"
      ]
    },
    {
      "cell_type": "markdown",
      "metadata": {
        "id": "LMy0BTUktYKa"
      },
      "source": [
        "### q6:- Write a program that will tell the number of dogs and chicken are there when the user will provide the value of total heads and legs.\n",
        "\n",
        "For example:\n",
        "Input:\n",
        "heads -> 4\n",
        "legs -> 12\n",
        "<br>\n",
        "Output:\n",
        "dogs -> 2\n",
        "chicken -> 2\n",
        "\n"
      ]
    },
    {
      "cell_type": "code",
      "execution_count": 15,
      "metadata": {
        "id": "XSBvJoA4tXaG"
      },
      "outputs": [
        {
          "name": "stdout",
          "output_type": "stream",
          "text": [
            "Number of dogs: 6\n",
            "Number of chickens: -2\n"
          ]
        }
      ],
      "source": [
        "heads = int(input(\"Enter total number of heads: \"))\n",
        "legs = int(input(\"Enter total number of legs: \"))\n",
        "\n",
        "dogs = (legs - 2 * heads) // 2  # Each dog has 4 legs\n",
        "chickens = heads - dogs  # The rest are chickens, each with 2 legs\n",
        "\n",
        "# Output the results\n",
        "print(\"Number of dogs:\", dogs)\n",
        "print(\"Number of chickens:\", chickens)\n"
      ]
    },
    {
      "cell_type": "markdown",
      "metadata": {
        "id": "gJ7C5kZYt4BP"
      },
      "source": [
        "### Q7:- Write a program to find the sum of squares of first n natural numbers where n will be provided by the user."
      ]
    },
    {
      "cell_type": "code",
      "execution_count": 2,
      "metadata": {
        "id": "_tHsmEHzt2nX"
      },
      "outputs": [
        {
          "name": "stdout",
          "output_type": "stream",
          "text": [
            "30.0\n"
          ]
        }
      ],
      "source": [
        "n = int(input(\"Enter the n:\"))\n",
        "\n",
        "# sumof square of n number = n*(n+1) * (2*n+1) / 6\n",
        "sum_of_square = n * (n+1) * (2*n+1) /6\n",
        "\n",
        "print(sum_of_square)\n",
        "\n"
      ]
    },
    {
      "cell_type": "markdown",
      "metadata": {
        "id": "FHrMM7g-yG1h"
      },
      "source": [
        "### Q8:- Given the first 2 terms of an Arithmetic Series.Find the Nth term of the series. Assume all inputs are provided by the user."
      ]
    },
    {
      "cell_type": "code",
      "execution_count": 3,
      "metadata": {
        "id": "go4_kmZmyVSx"
      },
      "outputs": [
        {
          "name": "stdout",
          "output_type": "stream",
          "text": [
            "-118\n"
          ]
        }
      ],
      "source": [
        "a = int(input('Enter first number'))\n",
        "a2 = int(input(\"Enter second number\"))\n",
        "n = int(input('Enter Nth number or last'))\n",
        "\n",
        "d = a - a2\n",
        "\n",
        "an = a + (n-1) *d\n",
        "\n",
        "print(an)"
      ]
    },
    {
      "cell_type": "markdown",
      "metadata": {
        "id": "QgyRX_es1oum"
      },
      "source": [
        "### Q9:- Given 2 fractions, find the sum of those 2 fractions.Take the numerator and denominator values of the fractions from the user."
      ]
    },
    {
      "cell_type": "code",
      "execution_count": 1,
      "metadata": {
        "id": "X05xqFS1yW16"
      },
      "outputs": [
        {
          "name": "stdout",
          "output_type": "stream",
          "text": [
            "1\n"
          ]
        }
      ],
      "source": [
        "numerator = int(input('Write your numerator'))\n",
        "denominator = int(input('write your Denominator'))\n",
        "\n",
        "sum_frictions = numerator//denominator\n",
        "\n",
        "print(int(sum_frictions))\n"
      ]
    },
    {
      "cell_type": "markdown",
      "metadata": {
        "id": "eaql38ln13u7"
      },
      "source": [
        "### Q10:- Given the height, width and breadth of a milk tank, you have to find out how many glasses of milk can be obtained? Assume all the inputs are provided by the user.\n",
        "\n",
        "\n",
        "\n",
        "Input:<br>\n",
        "Dimensions of the milk tank<br>\n",
        "H = 20cm, L = 20cm, B = 20cm\n",
        "<br><br>\n",
        "Dimensions of the glass<br>\n",
        "h = 3cm, r = 1cm"
      ]
    },
    {
      "cell_type": "code",
      "execution_count": 6,
      "metadata": {
        "id": "FePZqno74eWv"
      },
      "outputs": [
        {
          "name": "stdout",
          "output_type": "stream",
          "text": [
            "849.0\n"
          ]
        }
      ],
      "source": [
        "\n",
        "# Tank Dimensions\n",
        "H = int(input(\"Enter Height of Milk tank\"))\n",
        "W = int(input(\"Enter Width of Tank\"))\n",
        "B = int(input(\"Enter Breadth of Tank \"))\n",
        "\n",
        "Tank = H * W * B\n",
        "# Dimensions of Glass\n",
        "h = int(input('Enter Height of glass'))\n",
        "r = int(input(\"Ener Radius of galss\"))\n",
        "\n",
        "Glass = 3.14 * r ** 2 * h\n",
        "\n",
        "Number_OF_gLASS = Tank // Glass\n",
        "\n",
        "print(Number_OF_gLASS)"
      ]
    }
  ],
  "metadata": {
    "colab": {
      "provenance": []
    },
    "kernelspec": {
      "display_name": "Python 3",
      "name": "python3"
    },
    "language_info": {
      "codemirror_mode": {
        "name": "ipython",
        "version": 3
      },
      "file_extension": ".py",
      "mimetype": "text/x-python",
      "name": "python",
      "nbconvert_exporter": "python",
      "pygments_lexer": "ipython3",
      "version": "3.12.4"
    }
  },
  "nbformat": 4,
  "nbformat_minor": 0
}
